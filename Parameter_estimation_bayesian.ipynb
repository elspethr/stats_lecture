{
 "cells": [
  {
   "cell_type": "markdown",
   "metadata": {},
   "source": [
    "# Parameter estimation: a Bayesian approach\n",
    "\n",
    "In the previous notebook we examined how to decide whether the mean of sample was different from a given population mean using a hypothesis-testing approach. Now we'll look at a different way to think about parameter estimate that lets us use data to make probability statements about the parameter. First, you need to be familiar with Bayes' rule."
   ]
  },
  {
   "cell_type": "markdown",
   "metadata": {},
   "source": [
    "### Bayes' Rule\n",
    "\n",
    "Bayes' theorem is an equation that describes the probability of an event A, given that some other event B has occurred:\n",
    "\n",
    "$P(A|B) = \\frac{P(B|A)P(A)}{P(B)}$\n",
    "\n",
    "Fundamentally, Bayes' theorem is an equation to update our knowledge of the probability of an event based on new evidence. To make this more explicit, Bayes' theorem is often rearranged to produce Bayes' rule.\n",
    "\n",
    "To understand Bayes' rule, consider:\n",
    "\n",
    "- $A_1$ and $A_2$ as two competing hypotheses (e.g., the mean size of a population of items is equal to 10 cm or is not equal to 10cm)\n",
    "\n",
    "- B as an (independent and identically distributed) sample of observations from the population\n",
    "\n",
    "In this case, the prior odds of the event is simply the ratio of the probability of the two events:\n",
    "\n",
    "\n",
    "$O(A_1:A_2) = \\frac{P(A_1)}{P(A_2)}$\n",
    "\n",
    "When we observe B, the new data, we can estimate the **likelihood** of this data under each of the alternative hypotheses:\n",
    "\n",
    "-> $\\Lambda(A_1:A_2|B) = \\frac{P(B|A_1)}{P(B|A_2}$ <-\n",
    "\n",
    "\n",
    "When many events A are involved, since P(B) is fixed and can be treated as a constant, the rule can be phrased as:\n",
    "\n",
    "$P(A|B) \\propto P(A)P(B|A)$\n",
    "\n",
    "\n",
    "To sum it up, the basic concept of Bayesian parameter estimation is:\n",
    "\n",
    "Posterior distribution $\\propto$ Likelihood * Prior distribution"
   ]
  },
  {
   "cell_type": "markdown",
   "metadata": {},
   "source": [
    "### Priors\n",
    "\n",
    "The crux of Bayesian parameter estimation is the concept of the **prior distribution.**\n",
    "\n",
    "A **conjugate prior** refers to when the prior and posterior distributions belong to the same parametric family. This leads to more simple mathematical properties and is extremely useful for sequential estimation.\n",
    "\n",
    "Some examples:\n",
    "\n",
    "- if the data are Poisson random variables and the prior is a Gamma distribution, the posterior is also a Gamma distribution\n",
    "\n",
    "- if the data are Bernoulli random variables and the prior is a beta distribution, the posterior is also a beta distribution\n",
    "\n",
    "- if the data and the prior are normally distributed, the posterior will be normally distributed.\n",
    "\n",
    "An **improper prior** is when the prior is not a proper probability distribution (e.g., does not sum to one); this is often the case if the prior is a uniform distribution.\n",
    "\n",
    "Priors contain varying amounts of information about the parameter, which affects how much the observed data are \"allowed\" to influence the posterior. For example, for a normally distributed prior, a high variance means a diffuse or uninformative prior that will allow the new data to influence the posterior distribution more than an informative prior with low variance."
   ]
  },
  {
   "cell_type": "code",
   "execution_count": 32,
   "metadata": {
    "collapsed": false
   },
   "outputs": [
    {
     "data": {
      "text/plain": [
       "1"
      ]
     },
     "execution_count": 32,
     "metadata": {},
     "output_type": "execute_result"
    }
   ],
   "source": [
    "###Posterior sampling\n",
    "\n",
    "#define grid of possible parameter values\n",
    "grid = [float(x)/1000 for x in xrange(1001)]\n",
    "\n",
    "#define prior probability for each possible parameter\n",
    "prior = [1]*1001\n",
    "\n",
    "#compute likelihood at each value in grid\n",
    "\n",
    "#compute posterior of likelihood and prior\n",
    "post = likelihood*prior\n",
    "\n",
    "#standardize\n",
    "post = post/sum(post)\n",
    "\n",
    "#sample the posterior"
   ]
  },
  {
   "cell_type": "code",
   "execution_count": null,
   "metadata": {
    "collapsed": true
   },
   "outputs": [],
   "source": [
    "### Assumptions"
   ]
  },
  {
   "cell_type": "markdown",
   "metadata": {
    "collapsed": true
   },
   "source": [
    "### Key differences with the hypothesis testing approach:\n",
    "- fundamentally, Bayesians view all parameters as distributions and not as some \"true\" fixed numbers. \n",
    "\n",
    "Some additional notes:\n"
   ]
  },
  {
   "cell_type": "markdown",
   "metadata": {},
   "source": []
  }
 ],
 "metadata": {
  "kernelspec": {
   "display_name": "Python 2",
   "language": "python",
   "name": "python2"
  },
  "language_info": {
   "codemirror_mode": {
    "name": "ipython",
    "version": 2
   },
   "file_extension": ".py",
   "mimetype": "text/x-python",
   "name": "python",
   "nbconvert_exporter": "python",
   "pygments_lexer": "ipython2",
   "version": "2.7.11"
  }
 },
 "nbformat": 4,
 "nbformat_minor": 0
}
