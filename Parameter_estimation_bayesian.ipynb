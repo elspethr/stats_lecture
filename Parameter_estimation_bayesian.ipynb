{
 "cells": [
  {
   "cell_type": "markdown",
   "metadata": {},
   "source": [
    "# Parameter estimation: a Bayesian approach\n",
    "\n",
    "In the previous notebook we examined how to decide whether the mean of sample was different from a given population mean using a hypothesis-testing approach. Now we'll look at a different way to think about parameter estimate that lets us use data to make probability statements about the parameter. First, you need to be familiar with Bayes' rule."
   ]
  },
  {
   "cell_type": "markdown",
   "metadata": {},
   "source": [
    "### Bayes' Rule\n",
    "\n",
    "Bayes' theorem is an equation that describes the probability of an event A, given that some other event B has occurred:\n",
    "\n",
    "$P(A|B) = \\frac{P(B|A)P(A)}{P(B)}$\n",
    "\n",
    "Fundamentally, Bayes' theorem is an equation to update our knowledge of the probability of an event based on new evidence. To make this more explicit, Bayes' theorem is often rearranged to produce Bayes' rule:\n",
    "\n",
    "$O(A_1:A_2|B) = \\Lambda(A_1:A_2|B) \\cdot O(A_1:A_2)$\n",
    "\n",
    "To understand Bayes' rule, consider:\n",
    "\n",
    "- $A_1$ and $A_2$ as two competing hypotheses (e.g., the mean size of a population of items is equal to 10 cm or is not equal to 10cm)\n",
    "\n",
    "- B as an (independent and identically distributed) sample of observations from the population\n",
    "\n",
    "In this case, the **prior odds** of the event is simply the ratio of the probability of the two events:\n",
    "\n",
    "$O(A_1:A_2) = \\frac{P(A_1)}{P(A_2)}$\n",
    "\n",
    "When we observe B, the new data, we can estimate the **likelihood ratio** of this data under each of the alternative hypotheses:\n",
    "\n",
    "$\\Lambda(A_1:A_2|B) = \\frac{P(B|A_1)}{P(B|A_2)}$\n",
    "\n",
    "The **posterior odds** of the hypotheses are the probability of each hypothesis given the new data.\n",
    "\n",
    "$O(A_1:A_2|B) = \\frac{P(A_1|B)}{P(A_2|B)}$\n",
    "\n",
    "You can see how, with the help of Bayes' theorem, this result can be calculated using the likelihood and the prior odds. In essence, the likelihood of the new data is used to \"update\" the prior odds.\n",
    "\n",
    "When many events A are involved, since P(B) is fixed and can be treated as a constant, the rule can be phrased as:\n",
    "\n",
    "$P(A|B) \\propto P(A)P(B|A)$\n",
    "\n",
    "To sum it up, the basic concept of Bayes' rule is:\n",
    "\n",
    "Posterior distribution $\\propto$ Likelihood * Prior distribution"
   ]
  },
  {
   "cell_type": "markdown",
   "metadata": {},
   "source": [
    "### Prior distributions\n",
    "\n",
    "The crux of Bayesian parameter estimation is that all parameters are considered to be probability estimates, rather than some fixed \"true\" quantity.\n",
    "\n",
    "This means that for any parameter we want to estimate, we must begin with a **prior distribution.** A prior distribution must specify a probability for each possible value of the parameter. Most simply, this could just be two values (a probability that something is TRUE and a probability that it is FALSE).\n",
    "\n",
    "Priors contain varying amounts of information about the parameter, which affects how much the observed data are \"allowed\" to influence the posterior. For example, for a normally distributed prior, a high variance means a diffuse or uninformative prior that will allow the new data to influence the posterior distribution more than an informative prior with low variance.\n",
    "\n",
    "A **conjugate prior** refers to when the prior and posterior distributions belong to the same parametric family. This leads to some nice mathematical properties and is extremely useful for sequential estimation.\n",
    "\n",
    "Some examples:\n",
    "\n",
    "- if the data are Poisson random variables and the prior is a Gamma distribution, the posterior is also a Gamma distribution\n",
    "\n",
    "- if the data are Bernoulli random variables and the prior is a beta distribution, the posterior is also a beta distribution\n",
    "\n",
    "- if the data and the prior are normally distributed, the posterior will be normally distributed.\n",
    "\n",
    "An **improper prior** is when the prior is not a proper probability distribution (e.g., does not sum to one); this is often the case if the prior is a uniform distribution, which is often used as an uninformative prior."
   ]
  },
  {
   "cell_type": "markdown",
   "metadata": {},
   "source": [
    "### A simple simulated example\n",
    "\n",
    "Let's work through an example of Bayesian parameter estimation using a simple simulation method: grid approximation.\n",
    "\n",
    "The question we'll examine is:\n",
    "\n",
    "What proportion of the Earth's surface is water?\n",
    "\n",
    "To answer this question, you toss a globe in the air, and each time when you catch it, you record whether the surface under your right fingertip is land or water. You repeat this experiment multiple times. Assuming that each toss is independent, the probability of landing on water is $p$ (i.e., the true proportion of water covering the globe)and the probability of a landfall is $1-p$. "
   ]
  },
  {
   "cell_type": "markdown",
   "metadata": {},
   "source": [
    "In grid approximation, we define a grid with in the range of all possible parameter values, and compute the prior, likelihood, and posterior for each parameter value:"
   ]
  },
  {
   "cell_type": "code",
   "execution_count": 95,
   "metadata": {
    "collapsed": false
   },
   "outputs": [
    {
     "name": "stdout",
     "output_type": "stream",
     "text": [
      "[95, 96, 97, 98, 99, 100]\n"
     ]
    }
   ],
   "source": [
    "import scipy\n",
    "\n",
    "#define a grid of all possible parameter values (implying all proportions between 0 and 1)\n",
    "#grid = scipy.linspace(0,100,100)\n",
    "grid = range(101)\n",
    "print grid[95:101]"
   ]
  },
  {
   "cell_type": "markdown",
   "metadata": {},
   "source": [
    "For our prior, we'll assume you've never seen a globe before. The Earth could be 100% water or 100% land, and you assume those and all proportions in between are equally likely."
   ]
  },
  {
   "cell_type": "code",
   "execution_count": 127,
   "metadata": {
    "collapsed": false
   },
   "outputs": [
    {
     "name": "stdout",
     "output_type": "stream",
     "text": [
      "[1, 1, 1, 1, 1]\n"
     ]
    }
   ],
   "source": [
    "#define prior probability for each possible parameter\n",
    "prior = [1]*101 #technically an improper prior!\n",
    "#prior = [0 if i<=50 else 1 for i in grid] #e.g., if you knew the proportion was not less than 50%\n",
    "print prior[0:5]"
   ]
  },
  {
   "cell_type": "markdown",
   "metadata": {},
   "source": [
    "Let's say that you completed 100 trials, and got 60 waters and 40 lands. Use this information to compute the likelihood that the parameter is equal to each value in the grid."
   ]
  },
  {
   "cell_type": "code",
   "execution_count": 128,
   "metadata": {
    "collapsed": false
   },
   "outputs": [
    {
     "name": "stdout",
     "output_type": "stream",
     "text": [
      "[  1.60693804e-40   2.41040707e-38   1.78972725e-36   8.76966351e-35\n",
      "   3.18996510e-33]\n"
     ]
    }
   ],
   "source": [
    "from scipy.stats import binom\n",
    "\n",
    "likelihood = binom.pmf(grid, n=100, p=0.6) #this is not working properly\n",
    "print likelihood[0:5]"
   ]
  },
  {
   "cell_type": "code",
   "execution_count": 129,
   "metadata": {
    "collapsed": false
   },
   "outputs": [
    {
     "data": {
      "text/plain": [
       "[<matplotlib.lines.Line2D at 0x11437d090>]"
      ]
     },
     "execution_count": 129,
     "metadata": {},
     "output_type": "execute_result"
    },
    {
     "data": {
      "image/png": "[encoded data removed]",
      "text/plain": [
       "<matplotlib.figure.Figure at 0x11428a490>"
      ]
     },
     "metadata": {},
     "output_type": "display_data"
    }
   ],
   "source": [
    "#take a look at the likelihood distribution\n",
    "\n",
    "import matplotlib.pyplot as plt\n",
    "%matplotlib inline \n",
    "\n",
    "prop = [x/100. for x in grid]\n",
    "plt.plot(prop, likelihood)"
   ]
  },
  {
   "cell_type": "markdown",
   "metadata": {
    "collapsed": true
   },
   "source": [
    "With the prior and likelihood we can compute the posterior."
   ]
  },
  {
   "cell_type": "code",
   "execution_count": 130,
   "metadata": {
    "collapsed": false
   },
   "outputs": [
    {
     "data": {
      "text/plain": [
       "[<matplotlib.lines.Line2D at 0x1144981d0>]"
      ]
     },
     "execution_count": 130,
     "metadata": {},
     "output_type": "execute_result"
    },
    {
     "data": {
      "image/png": "[encoded data removed]",
      "text/plain": [
       "<matplotlib.figure.Figure at 0x1143a9ed0>"
      ]
     },
     "metadata": {},
     "output_type": "display_data"
    }
   ],
   "source": [
    "uspost = likelihood*prior\n",
    "posterior = uspost/sum(uspost)\n",
    "\n",
    "plt.plot(prop,posterior)"
   ]
  },
  {
   "cell_type": "markdown",
   "metadata": {
    "collapsed": true
   },
   "source": [
    "Looking at the posterior, it's the same as the prior! Well, obviously, since our prior contained no information! You can try running the code again, modifying the prior. Now let's sample the posterior to better describe and understand it."
   ]
  },
  {
   "cell_type": "code",
   "execution_count": null,
   "metadata": {
    "collapsed": true
   },
   "outputs": [],
   "source": []
  },
  {
   "cell_type": "markdown",
   "metadata": {
    "collapsed": false
   },
   "source": [
    "### A worked example with conjugate priors\n",
    "\n",
    "The example above used simulations of the distributions to approximate the solution. However, with conjugate priors, there are analytical solutions for the posterior mean and variance."
   ]
  },
  {
   "cell_type": "code",
   "execution_count": 37,
   "metadata": {
    "collapsed": true
   },
   "outputs": [],
   "source": [
    "#equations and worked example code..."
   ]
  },
  {
   "cell_type": "markdown",
   "metadata": {},
   "source": [
    "While the conjugate solution is very useful, in practice complex Bayesian models do not have an analytical solution and instead are estimated, often using MCMC (Markov Chain Monte Carlo) simulation."
   ]
  },
  {
   "cell_type": "code",
   "execution_count": null,
   "metadata": {
    "collapsed": true
   },
   "outputs": [],
   "source": []
  }
 ],
 "metadata": {
  "kernelspec": {
   "display_name": "Python 2",
   "language": "python",
   "name": "python2"
  },
  "language_info": {
   "codemirror_mode": {
    "name": "ipython",
    "version": 2
   },
   "file_extension": ".py",
   "mimetype": "text/x-python",
   "name": "python",
   "nbconvert_exporter": "python",
   "pygments_lexer": "ipython2",
   "version": "2.7.11"
  }
 },
 "nbformat": 4,
 "nbformat_minor": 0
}
