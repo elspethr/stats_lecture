{
 "cells": [
  {
   "cell_type": "markdown",
   "metadata": {},
   "source": [
    "# Parameter estimation\n",
    "\n",
    "One of the most basic data analysis problems is to estimate parameters of a **population**, such as the mean, based on our dataset, which is usually a small **sample** of the population. \n",
    "\n",
    "The characteristics of our sample, such as the mean and standard deviation, are (usually) easy to calculate. But how does our sample relate to the broader population that we want to know about? "
   ]
  },
  {
   "cell_type": "markdown",
   "metadata": {},
   "source": [
    "### A one-sample t-test\n",
    "\n",
    "Imagine you work at a factory where the mean size of a product needs to be 10 cm. For quality control, a sample of 1000 items were measured."
   ]
  },
  {
   "cell_type": "code",
   "execution_count": 19,
   "metadata": {
    "collapsed": false
   },
   "outputs": [
    {
     "name": "stdout",
     "output_type": "stream",
     "text": [
      "[ 10.80234123   9.59302331   8.28178776   9.99490039  10.87662616\n",
      "  10.17129554   9.68596892  10.02494834   8.87973125  11.22704026]\n"
     ]
    }
   ],
   "source": [
    "#generate a pretend sample \n",
    "import numpy\n",
    "sample = numpy.random.normal(9.9, 1.0, 1000)\n",
    "print sample[0:10]"
   ]
  },
  {
   "cell_type": "code",
   "execution_count": 20,
   "metadata": {
    "collapsed": false
   },
   "outputs": [
    {
     "name": "stdout",
     "output_type": "stream",
     "text": [
      "9.85997956223\n"
     ]
    }
   ],
   "source": [
    "#what's the mean\n",
    "print numpy.mean(sample)"
   ]
  },
  {
   "cell_type": "markdown",
   "metadata": {},
   "source": [
    "So the mean size of items in the sample is somewhat less than 10. How do we know if this means that the true mean size of the product is less than 10 cm?\n",
    "\n",
    "The classic statistical approach to this problem is a \"one-sample t-test.\" This test basically takes a measure of the distance between the sample mean and the hypothesized mean of the population, and uses statistical distributions as the basis for figuring out how likely it is that our sample came from a population with that mean."
   ]
  },
  {
   "cell_type": "markdown",
   "metadata": {},
   "source": [
    "For our Two hypotheses:\n",
    "\n",
    "$H_0$, the \"null\" hypothesis: The mean of the sample is NOT DIFFERENT from the comparison value.\n",
    "$H_1$, the \"alternative\" hypothesis: The mean of the sample is DIFFERENT from the comparison value.\n",
    "\n",
    "In classical statistical testing, we are usually trying to see if there is sufficient evidence *against the null hypothesis to reject it in favour of the alternative. We'll take up the question of *how much* different the samples need to be to \n",
    "\n",
    "Note: We could ask whether the mean is smaller or larger instead of just different (that's the difference between a one- and two-sided t-test). \n"
   ]
  },
  {
   "cell_type": "markdown",
   "metadata": {},
   "source": [
    "The basic equation for a one-sample t-test is:\n",
    "\n",
    "$t=\\frac{\\bar{x}{\\frac{Z}{s}}$\n",
    "\n",
    "where:\n",
    "\n",
    "Z = \n",
    "\n",
    "and \n",
    "\n",
    "s = "
   ]
  },
  {
   "cell_type": "code",
   "execution_count": null,
   "metadata": {
    "collapsed": true
   },
   "outputs": [],
   "source": [
    "Further, the t-test has three main assumptions, including:\n",
    "- $X$ has a normal distribution with mean $\\mu$ and variance $\\sigma^2$\n",
    "- s2 has a χ2 distribution with p degrees of freedom under the null hypothesis, where p is a positive constant\n",
    "- Z and s are independent"
   ]
  },
  {
   "cell_type": "markdown",
   "metadata": {},
   "source": [
    "## P-values"
   ]
  },
  {
   "cell_type": "markdown",
   "metadata": {},
   "source": [
    "## What"
   ]
  }
 ],
 "metadata": {
  "kernelspec": {
   "display_name": "Python 2",
   "language": "python",
   "name": "python2"
  },
  "language_info": {
   "codemirror_mode": {
    "name": "ipython",
    "version": 2
   },
   "file_extension": ".py",
   "mimetype": "text/x-python",
   "name": "python",
   "nbconvert_exporter": "python",
   "pygments_lexer": "ipython2",
   "version": "2.7.11"
  }
 },
 "nbformat": 4,
 "nbformat_minor": 0
}
